{
 "cells": [
  {
   "cell_type": "code",
   "execution_count": 20,
   "metadata": {},
   "outputs": [
    {
     "data": {
      "text/plain": [
       "True"
      ]
     },
     "execution_count": 20,
     "metadata": {},
     "output_type": "execute_result"
    }
   ],
   "source": [
    "from dotenv import load_dotenv\n",
    "import os\n",
    "from langchain_openai import ChatOpenAI\n",
    "from langchain_core.output_parsers import StrOutputParser\n",
    "from IPython.display import display, Markdown\n",
    "llm = ChatOpenAI(model_name='gpt-4o-mini', temperature=0)\n",
    "\n",
    "load_dotenv()"
   ]
  },
  {
   "cell_type": "markdown",
   "metadata": {},
   "source": [
    "Zero Shot CoT"
   ]
  },
  {
   "cell_type": "code",
   "execution_count": 21,
   "metadata": {},
   "outputs": [],
   "source": [
    "prompt_1=\"\"\"\n",
    "Let's work through this problem step by step.\n",
    "\n",
    "Problem: The Indian Cricket team is fairly competent team. They have won many ICC Championships over the years across many formats.\n",
    "They started the year 2024 with 6 wins. In the middle of the season they continued their good run with 8 more wins. However towards the tail end\n",
    "of the year, they suffered some setbacks. They Lost to New Zealand by margin of 3-0 and rounded out the year with another losing cause of 3-1 against australia.\n",
    "How many matches did the Indian team win in year 2024?\n",
    "Step-by-step reasoning:\n",
    "\"\"\""
   ]
  },
  {
   "cell_type": "code",
   "execution_count": 22,
   "metadata": {},
   "outputs": [],
   "source": [
    "response = llm.invoke(prompt_1)"
   ]
  },
  {
   "cell_type": "code",
   "execution_count": 23,
   "metadata": {},
   "outputs": [
    {
     "name": "stdout",
     "output_type": "stream",
     "text": [
      "To determine how many matches the Indian Cricket team won in the year 2024, we can break down the information provided step by step.\n",
      "\n",
      "1. **Initial Wins**: The Indian team started the year with 6 wins.\n",
      "   - Wins so far: 6\n",
      "\n",
      "2. **Mid-Season Wins**: They continued their good run with 8 more wins in the middle of the season.\n",
      "   - Wins so far: 6 + 8 = 14\n",
      "\n",
      "3. **Losses to New Zealand**: They lost to New Zealand by a margin of 3-0. This means they played 3 matches against New Zealand and lost all of them.\n",
      "   - Wins so far: 14 (no change, as these are losses)\n",
      "\n",
      "4. **Losses to Australia**: They rounded out the year with another losing series of 3-1 against Australia. This means they played 4 matches against Australia, winning 1 and losing 3.\n",
      "   - Wins from this series: 1\n",
      "   - Total wins so far: 14 + 1 = 15\n",
      "\n",
      "Now, let's summarize the total wins:\n",
      "\n",
      "- Total wins at the start: 6\n",
      "- Total wins in the middle: 8\n",
      "- Total wins against New Zealand: 0\n",
      "- Total wins against Australia: 1\n",
      "\n",
      "**Final Calculation**:\n",
      "Total wins = 6 (initial) + 8 (mid-season) + 0 (New Zealand) + 1 (Australia) = 15\n",
      "\n",
      "Thus, the Indian Cricket team won a total of **15 matches** in the year 2024.\n"
     ]
    }
   ],
   "source": [
    "print(response.content)"
   ]
  },
  {
   "cell_type": "markdown",
   "metadata": {},
   "source": [
    "Few Shot CoT"
   ]
  },
  {
   "cell_type": "code",
   "execution_count": 34,
   "metadata": {},
   "outputs": [],
   "source": [
    "prompt_2=\"\"\"            Think step-by-step to get to your answer similar to the following examples:\n",
    "\n",
    "            Example 1:\n",
    "            Q: Roger has 5 tennis balls. He buys 2 more cans of tennis balls.\n",
    "               Each can has 3 tennis balls. How many tennis balls does he have now?\n",
    "\n",
    "            Reasoning:\n",
    "              Step 1: Roger started with 5 balls.\n",
    "              Step 2: 2 cans of 3 tennis balls each is 6 tennis balls in total.\n",
    "              Step 3: 5 + 6 = 11 tennis balls.\n",
    "\n",
    "            A: 11 Tennis Balls\n",
    "\n",
    "            Example 2:\n",
    "            Q: How many keystrokes are needed to type the numbers from 1 to 500?\n",
    "\n",
    "            Reasoning:\n",
    "              Step 1: There are 9 one-digit numbers from 1 to 9.\n",
    "              Step 2: There are 90 two-digit numbers from 10 to 99.\n",
    "              Step 3: There are 401 three-digit numbers from 100 to 500.\n",
    "              Step 4: Adding all of them up, 9 + 90 + 401 = 1392 keystrokes.\n",
    "\n",
    "            A: 1392 keystrokes\n",
    "            \n",
    "            Problem: The Indian Cricket team is fairly competent team. They have won many ICC Championships over the years across many formats.\n",
    "They started the year 2024 with 6 wins. In the middle of the season they continued their good run with 8 more wins. However towards the tail end\n",
    "of the year, they suffered some setbacks. They Lost to New Zealand by losing 3 matches and rounded out the year with another losing cause by convincing margin of 3 losses and one win against australia.\n",
    "How many matches did the Indian team win in year 2024?\n",
    "            \"\"\""
   ]
  },
  {
   "cell_type": "code",
   "execution_count": 35,
   "metadata": {},
   "outputs": [],
   "source": [
    "response = llm.invoke(prompt_2)"
   ]
  },
  {
   "cell_type": "code",
   "execution_count": 36,
   "metadata": {},
   "outputs": [
    {
     "name": "stdout",
     "output_type": "stream",
     "text": [
      "Reasoning:\n",
      "Step 1: The Indian Cricket team started the year with 6 wins.\n",
      "Step 2: They added 8 more wins during the middle of the season. So, 6 + 8 = 14 wins.\n",
      "Step 3: They lost 3 matches to New Zealand, which does not affect the win count.\n",
      "Step 4: They had 3 more losses and 1 win against Australia. So, the additional win is 1.\n",
      "Step 5: Adding this win to the previous total: 14 + 1 = 15 wins.\n",
      "\n",
      "A: 15 wins\n"
     ]
    }
   ],
   "source": [
    "print(response.content)"
   ]
  },
  {
   "cell_type": "code",
   "execution_count": null,
   "metadata": {},
   "outputs": [],
   "source": []
  },
  {
   "cell_type": "code",
   "execution_count": null,
   "metadata": {},
   "outputs": [],
   "source": []
  }
 ],
 "metadata": {
  "kernelspec": {
   "display_name": "myenv",
   "language": "python",
   "name": "python3"
  },
  "language_info": {
   "codemirror_mode": {
    "name": "ipython",
    "version": 3
   },
   "file_extension": ".py",
   "mimetype": "text/x-python",
   "name": "python",
   "nbconvert_exporter": "python",
   "pygments_lexer": "ipython3",
   "version": "3.11.8"
  }
 },
 "nbformat": 4,
 "nbformat_minor": 2
}
